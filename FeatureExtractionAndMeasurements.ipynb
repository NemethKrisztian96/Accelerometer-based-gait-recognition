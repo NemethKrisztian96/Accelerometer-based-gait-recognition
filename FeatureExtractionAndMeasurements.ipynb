{
  "nbformat": 4,
  "nbformat_minor": 0,
  "metadata": {
    "colab": {
      "name": "FeatureExtractionAndMeasurements.ipynb",
      "version": "0.3.2",
      "provenance": [],
      "collapsed_sections": [
        "tCX7JNbEhMdM",
        "BdmtYIH19C1j",
        "t2Um0p3rRQZn",
        "P1UpH0Z2RluD",
        "lCxdNz2qRmAn",
        "yLr9s84LRmMF"
      ],
      "include_colab_link": true
    },
    "kernelspec": {
      "name": "python3",
      "display_name": "Python 3"
    },
    "accelerator": "GPU"
  },
  "cells": [
    {
      "cell_type": "markdown",
      "metadata": {
        "id": "view-in-github",
        "colab_type": "text"
      },
      "source": [
        "<a href=\"https://colab.research.google.com/github/NemethKrisztian96/Accelerometer-based-gait-recognition/blob/master/FeatureExtractionAndMeasurements.ipynb\" target=\"_parent\"><img src=\"https://colab.research.google.com/assets/colab-badge.svg\" alt=\"Open In Colab\"/></a>"
      ]
    },
    {
      "cell_type": "markdown",
      "metadata": {
        "id": "tsT6aP7SHZ6P",
        "colab_type": "text"
      },
      "source": [
        "Mount Google Drive in order to use as dataset source"
      ]
    },
    {
      "cell_type": "code",
      "metadata": {
        "id": "lK1oBN8RHKAA",
        "colab_type": "code",
        "outputId": "ac3f79f0-ccac-4757-e9b5-e71f24d00058",
        "colab": {
          "base_uri": "https://localhost:8080/",
          "height": 122
        }
      },
      "source": [
        "from google.colab import drive\n",
        "drive.mount('/content/drive')"
      ],
      "execution_count": 0,
      "outputs": [
        {
          "output_type": "stream",
          "text": [
            "Go to this URL in a browser: https://accounts.google.com/o/oauth2/auth?client_id=947318989803-6bn6qk8qdgf4n4g3pfee6491hc0brc4i.apps.googleusercontent.com&redirect_uri=urn%3Aietf%3Awg%3Aoauth%3A2.0%3Aoob&scope=email%20https%3A%2F%2Fwww.googleapis.com%2Fauth%2Fdocs.test%20https%3A%2F%2Fwww.googleapis.com%2Fauth%2Fdrive%20https%3A%2F%2Fwww.googleapis.com%2Fauth%2Fdrive.photos.readonly%20https%3A%2F%2Fwww.googleapis.com%2Fauth%2Fpeopleapi.readonly&response_type=code\n",
            "\n",
            "Enter your authorization code:\n",
            "··········\n",
            "Mounted at /content/drive\n"
          ],
          "name": "stdout"
        }
      ]
    },
    {
      "cell_type": "markdown",
      "metadata": {
        "id": "sdw9NkjAHgwb",
        "colab_type": "text"
      },
      "source": [
        "Imports"
      ]
    },
    {
      "cell_type": "code",
      "metadata": {
        "id": "H1OEDQQFHg6q",
        "colab_type": "code",
        "outputId": "80c2f6ad-ecbd-4224-e527-6399b523d427",
        "colab": {
          "base_uri": "https://localhost:8080/",
          "height": 34
        }
      },
      "source": [
        "import matplotlib.pyplot as plt\n",
        "import numpy as np\n",
        "import pandas as pd\n",
        "from keras.layers import Flatten\n",
        "from keras.layers import Input, Dense\n",
        "from keras.layers import Reshape\n",
        "from keras.models import Model\n",
        "from sklearn import preprocessing\n",
        "from sklearn.decomposition import PCA, KernelPCA, SparsePCA\n",
        "from sklearn.metrics import classification_report\n",
        "from sklearn.metrics import confusion_matrix, accuracy_score\n",
        "from sklearn.model_selection import train_test_split\n",
        "from sklearn.preprocessing import StandardScaler\n",
        "from sklearn.svm import SVC\n",
        "from keras.utils import plot_model"
      ],
      "execution_count": 0,
      "outputs": [
        {
          "output_type": "stream",
          "text": [
            "Using TensorFlow backend.\n"
          ],
          "name": "stderr"
        }
      ]
    },
    {
      "cell_type": "markdown",
      "metadata": {
        "id": "deloJOMBHwyp",
        "colab_type": "text"
      },
      "source": [
        "Settings and global attributes"
      ]
    },
    {
      "cell_type": "code",
      "metadata": {
        "id": "P06xX_i5Hw5g",
        "colab_type": "code",
        "colab": {}
      },
      "source": [
        "# Random states for reproducibility\n",
        "RANDOM_STATE = np.random.seed(0)\n",
        "\n",
        "# input frame size\n",
        "FRAME_SIZE = 128\n",
        "\n",
        "SESSION0 = 22\n",
        "SESSION1 = 153\n",
        "SESSION2 = 153\n",
        "SESSIONS = ['session_0/', 'session_1/', 'session_2/']\n",
        "\n",
        "# change these to the according paths\n",
        "FILES_PATH = '/content/drive/My Drive/Colab Notebooks/zju-gaitacc/'\n",
        "# FILES_PATH = '../../GaitBiometricsData/zju-gaitacc/zju-gaitacc/'\n",
        "FEATURES_DIR = '/content/drive/My Drive/Colab Notebooks/zju-gaitacc/Features/'\n",
        "# FEATURES_DIR = './Features/'\n",
        "\n",
        "# manual features\n",
        "# change this according to the file that has to be used for classification\n",
        "FEATURE_FILE = 'gaitacc128_session0.csv'\n",
        "# FEATURE_FILE = 'gaitacc128_session1.csv'\n",
        "# FEATURE_FILE = 'gaitacc128_session2.csv'\n",
        "\n",
        "# automatic features\n",
        "# change this according to the encoded session that has to be classified\n",
        "ENCODED_FILE = \"session_0.csv\"\n",
        "# ENCODED_FILE = \"session_1.csv\"\n",
        "# ENCODED_FILE = \"session_2.csv\""
      ],
      "execution_count": 0,
      "outputs": []
    },
    {
      "cell_type": "markdown",
      "metadata": {
        "id": "MKqPHzY8IKg9",
        "colab_type": "text"
      },
      "source": [
        "##Utility functions for different tasks"
      ]
    },
    {
      "cell_type": "markdown",
      "metadata": {
        "id": "xpV8gqIcIeOp",
        "colab_type": "text"
      },
      "source": [
        "For loading dataset"
      ]
    },
    {
      "cell_type": "code",
      "metadata": {
        "id": "Z7C3s6qGIRjr",
        "colab_type": "code",
        "colab": {}
      },
      "source": [
        "def load_session_files_list (session_number):\n",
        "    \"\"\"Loads a list with the files that have to be loaded\"\"\"\n",
        "    \n",
        "    users = []\n",
        "    for i in range(1, session_number + 1):\n",
        "        if i < 10:\n",
        "            for j in range(1, 7):\n",
        "                users.append(\"subj_00\" + str(i) + '/rec_' + str(j) + '/3.txt')\n",
        "        elif i < 100:\n",
        "            for j in range(1, 7):\n",
        "                users.append(\"subj_0\" + str(i) + '/rec_' + str(j) + '/3.txt')\n",
        "        else:\n",
        "            for j in range(1, 7):\n",
        "                users.append(\"subj_\" + str(i) + '/rec_' + str(j) + '/3.txt')\n",
        "    return users\n",
        "\n",
        "\n",
        "def load_dataset (path, files_list, session_index):\n",
        "    \"\"\"Loads the a session of the dataset from the given path and returns the \n",
        "    data in a (samples, frame_size=128, 3) shape numpy array\"\"\"\n",
        "    \n",
        "    print(\"Loading...\")\n",
        "    data = load_file(path + SESSIONS[session_index] + files_list[0])\n",
        "    labels = [files_list[0][5:8]] * len(data)\n",
        "    for name in files_list[1:]:\n",
        "        print(name)\n",
        "        loaded = load_file(path + SESSIONS[session_index] + name)\n",
        "        data = np.vstack((data, loaded))\n",
        "        labels += [name[5:8]] * len(loaded)\n",
        "    print(\"Loaded shape:\", data.shape)\n",
        "    print(\"Labels:\", len(labels))\n",
        "    return data, labels\n",
        "\n",
        "\n",
        "def load_file (file):\n",
        "    \"\"\"Loads the contents of one given file\"\"\"\n",
        "    \n",
        "    # files contain data for each axis on separate rows\n",
        "    with open(file) as f:\n",
        "        axis_x = f.readline()\n",
        "        axis_y = f.readline()\n",
        "        axis_z = f.readline()\n",
        "        axis_x = axis_x.strip('\\n').split(',')\n",
        "        axis_y = axis_y.strip('\\n').split(',')\n",
        "        axis_z = axis_z.strip('\\n').split(',')\n",
        "\n",
        "        if len(axis_x) != len(axis_y) and len(axis_x) != len(axis_z):\n",
        "            raise Exception(\"Corrupted file: \" + file)\n",
        "\n",
        "        counter = 0\n",
        "        # remove the last step if it is < 128 data points long\n",
        "        length = len(axis_x) - (len(axis_x) % 128)\n",
        "        arr = np.empty(shape=(length // 128, 128, 3))\n",
        "        for i in range(length):\n",
        "            sample = i // 128\n",
        "            arr[sample][counter][0] = float(axis_x[i])\n",
        "            arr[sample][counter][1] = float(axis_y[i])\n",
        "            arr[sample][counter][2] = float(axis_z[i])\n",
        "            counter += 1\n",
        "            if counter == 128:\n",
        "                counter = 0\n",
        "    return arr\n"
      ],
      "execution_count": 0,
      "outputs": []
    },
    {
      "cell_type": "markdown",
      "metadata": {
        "id": "uuvknRb-KnOY",
        "colab_type": "text"
      },
      "source": [
        "Complementary functions for measuring classification performance"
      ]
    },
    {
      "cell_type": "code",
      "metadata": {
        "id": "xkZbSNYyKnR_",
        "colab_type": "code",
        "colab": {}
      },
      "source": [
        "def performance_measure (y_actual, y_pred):\n",
        "    TP = 0\n",
        "    FP = 0\n",
        "    TN = 0\n",
        "    FN = 0\n",
        "\n",
        "    for i in range(len(y_pred)):\n",
        "        if y_actual[i] == y_pred[i]:\n",
        "            TP += 1\n",
        "        if y_pred[i] == 1 and y_actual[i] != y_pred[i]:\n",
        "            FP += 1\n",
        "        if y_actual[i] == y_pred[i] == 0:\n",
        "            TN += 1\n",
        "        if y_pred[i] == 0 and y_actual[i] != y_pred[i]:\n",
        "            FN += 1\n",
        "\n",
        "    return TP, FP, TN, FN\n",
        "\n",
        "\n",
        "def calc_sensitivity (y_test, y_pred):\n",
        "    from sklearn.metrics import confusion_matrix\n",
        "    cm = confusion_matrix(y_test, y_pred)\n",
        "    # row = false positive, column = false negative\n",
        "    TP = 0\n",
        "    FP = 0\n",
        "    TN = 0\n",
        "    FN = 0\n",
        "    for i in range(len(cm)):\n",
        "        for j in range(len(cm)):\n",
        "            if i == j:\n",
        "                TP += cm[i][i]\n",
        "            else:\n",
        "                FN += cm[j][i]\n",
        "    return TP / (TP + FN)"
      ],
      "execution_count": 0,
      "outputs": []
    },
    {
      "cell_type": "markdown",
      "metadata": {
        "id": "e5gPINktK7D8",
        "colab_type": "text"
      },
      "source": [
        "## Autoencoder"
      ]
    },
    {
      "cell_type": "code",
      "metadata": {
        "id": "jlFVFU6fLFou",
        "colab_type": "code",
        "colab": {}
      },
      "source": [
        "def dense_autoencoder (activation_function='tanh'):\n",
        "    data0, ydata0 = load_dataset(FILES_PATH, load_session_files_list(SESSION0), 0)\n",
        "    data1, ydata1 = load_dataset(FILES_PATH, load_session_files_list(SESSION1), 1)\n",
        "    data2, ydata2 = load_dataset(FILES_PATH, load_session_files_list(SESSION2), 2)\n",
        "\n",
        "    data = np.concatenate((data0, data1, data2), axis=0)\n",
        "    ydata = np.concatenate((ydata0, ydata1, ydata2), axis=0)\n",
        "\n",
        "    X_train, X_test, y_train, y_test = train_test_split(data, ydata, test_size=0.2, random_state=RANDOM_STATE)\n",
        "\n",
        "    SEQUENCE_LENGTH, width, depth = 128, 3, 1\n",
        "\n",
        "    input_size = SEQUENCE_LENGTH * 3\n",
        "    input_frame = Input(shape=(SEQUENCE_LENGTH, 3))\n",
        "    # x = Dense(SEQUENCE_LENGTH, activation='linear', kernel_initializer=init.ones(), trainable=False)(input_frame)\n",
        "    x = Flatten()(input_frame)\n",
        "    x = Dense(input_size, activation=activation_function)(x)\n",
        "    encoded = Dense(320, activation=activation_function)(x)\n",
        "    encoded = Dense(256, activation=activation_function)(encoded)\n",
        "    encoded = Dense(192, activation=activation_function)(encoded)\n",
        "    encoded = Dense(128, activation=activation_function)(encoded)\n",
        "    encoded = Dense(96, activation=activation_function)(encoded)\n",
        "    encoded = Dense(64, activation=activation_function)(encoded)\n",
        "    encoded = Dense(48, activation=activation_function)(encoded)\n",
        "\n",
        "    y = Dense(22, activation=activation_function)(encoded)\n",
        "\n",
        "    decoded = Dense(48, activation=activation_function)(y)\n",
        "    decoded = Dense(64, activation=activation_function)(decoded)\n",
        "    decoded = Dense(96, activation=activation_function)(decoded)\n",
        "    decoded = Dense(128, activation=activation_function)(decoded)\n",
        "    decoded = Dense(192, activation=activation_function)(decoded)\n",
        "    decoded = Dense(256, activation=activation_function)(decoded)\n",
        "    decoded = Dense(320, activation=activation_function)(decoded)\n",
        "    z = Dense(input_size, activation=activation_function)(decoded)\n",
        "    z = Reshape(target_shape=(128, 3))(z)\n",
        "    autoencoder = Model(input_frame, z)\n",
        "\n",
        "    # encoder is the model of the autoencoder slice in the middle\n",
        "    encoder = Model(input_frame, y)\n",
        "\n",
        "    autoencoder.compile(optimizer='adadelta', loss='mse')  # reporting the loss\n",
        "    print(autoencoder.summary())\n",
        "    plot_model(autoencoder, show_shapes=True, to_file='/content/drive/My Drive/Colab Notebooks/encoder.png')\n",
        "    history = autoencoder.fit(X_train, X_train,\n",
        "                              epochs=20,\n",
        "                              batch_size=16,\n",
        "                              shuffle=True,\n",
        "                              validation_data=(X_test, X_test))\n",
        "\n",
        "    # Plot training & validation loss values\n",
        "    plt.plot(history.history['loss'])\n",
        "    plt.plot(history.history['val_loss'])\n",
        "    #plt.title('Veszteség')\n",
        "    plt.ylabel('Veszteség')\n",
        "    plt.xlabel('Korszak')\n",
        "    plt.xticks(np.arange(0, 20, 1.0))\n",
        "    plt.legend(['Tanítás', 'Validáció'], loc='upper right')\n",
        "    plt.savefig('/content/drive/My Drive/Colab Notebooks/autoencoder_loss', dpi=200)\n",
        "    plt.show()\n",
        "    return encoder"
      ],
      "execution_count": 0,
      "outputs": []
    },
    {
      "cell_type": "markdown",
      "metadata": {
        "id": "s_Jv-WEDMWXP",
        "colab_type": "text"
      },
      "source": [
        "Function for extracting features using the encoder"
      ]
    },
    {
      "cell_type": "code",
      "metadata": {
        "id": "h6mHkqtzMdz-",
        "colab_type": "code",
        "colab": {}
      },
      "source": [
        "def extract_features (encoder, session, session_idx):\n",
        "    print('Extracting features...')\n",
        "    # Load raw data and segment into frames\n",
        "\n",
        "    session_files = load_session_files_list(session)\n",
        "\n",
        "    data, ydata = load_dataset(FILES_PATH, session_files, session_idx)\n",
        "\n",
        "    print('data shape: ', str(data.shape))\n",
        "    # Extract features\n",
        "    encoded_frames = encoder.predict(data)\n",
        "    print(encoded_frames.shape)\n",
        "\n",
        "    # Normalize data\n",
        "    scaled_data = preprocessing.scale(encoded_frames)\n",
        "    # scaled_data = encoded_frames\n",
        "    num_features = encoded_frames.shape[1]\n",
        "\n",
        "    # Concatenate features(encoded_frames) with labels (ydata)\n",
        "    df1 = pd.DataFrame(data=scaled_data)\n",
        "    # df1 = df1.assign(pd.Series(ydata[1]).values)\n",
        "    df2 = pd.DataFrame(data=ydata, columns=[64])\n",
        "    df3 = pd.concat([df1, df2], axis=1)\n",
        "\n",
        "    # Save data into a CSV file\n",
        "    out_file = FEATURES_DIR + SESSIONS[session_idx][:-1] + \".csv\"\n",
        "    df3.to_csv(out_file, header=False, index=False)\n",
        "\n",
        "    print(\"Saved to: \" + out_file)"
      ],
      "execution_count": 0,
      "outputs": []
    },
    {
      "cell_type": "markdown",
      "metadata": {
        "id": "tCX7JNbEhMdM",
        "colab_type": "text"
      },
      "source": [
        "##Extracting automatic features"
      ]
    },
    {
      "cell_type": "code",
      "metadata": {
        "id": "JnwEvIexhPl5",
        "colab_type": "code",
        "outputId": "3d61fc46-c107-4b9f-a574-821dfede0e4c",
        "colab": {
          "base_uri": "https://localhost:8080/",
          "height": 1000
        }
      },
      "source": [
        "encoder = dense_autoencoder()"
      ],
      "execution_count": 8,
      "outputs": [
        {
          "output_type": "stream",
          "text": [
            "subj_153/rec_6/3.txt\n"
          ],
          "name": "stdout"
        },
        {
          "output_type": "stream",
          "text": [
            "WARNING: Logging before flag parsing goes to stderr.\n",
            "W0704 10:43:13.988077 140250607974272 deprecation_wrapper.py:119] From /usr/local/lib/python3.6/dist-packages/keras/backend/tensorflow_backend.py:74: The name tf.get_default_graph is deprecated. Please use tf.compat.v1.get_default_graph instead.\n",
            "\n",
            "W0704 10:43:14.021299 140250607974272 deprecation_wrapper.py:119] From /usr/local/lib/python3.6/dist-packages/keras/backend/tensorflow_backend.py:517: The name tf.placeholder is deprecated. Please use tf.compat.v1.placeholder instead.\n",
            "\n",
            "W0704 10:43:14.042290 140250607974272 deprecation_wrapper.py:119] From /usr/local/lib/python3.6/dist-packages/keras/backend/tensorflow_backend.py:4138: The name tf.random_uniform is deprecated. Please use tf.random.uniform instead.\n",
            "\n"
          ],
          "name": "stderr"
        },
        {
          "output_type": "stream",
          "text": [
            "Loaded shape: (8897, 128, 3)\n",
            "Labels: 8897\n"
          ],
          "name": "stdout"
        },
        {
          "output_type": "stream",
          "text": [
            "W0704 10:43:14.230103 140250607974272 deprecation_wrapper.py:119] From /usr/local/lib/python3.6/dist-packages/keras/optimizers.py:790: The name tf.train.Optimizer is deprecated. Please use tf.compat.v1.train.Optimizer instead.\n",
            "\n"
          ],
          "name": "stderr"
        },
        {
          "output_type": "stream",
          "text": [
            "_________________________________________________________________\n",
            "Layer (type)                 Output Shape              Param #   \n",
            "=================================================================\n",
            "input_1 (InputLayer)         (None, 128, 3)            0         \n",
            "_________________________________________________________________\n",
            "flatten_1 (Flatten)          (None, 384)               0         \n",
            "_________________________________________________________________\n",
            "dense_1 (Dense)              (None, 384)               147840    \n",
            "_________________________________________________________________\n",
            "dense_2 (Dense)              (None, 320)               123200    \n",
            "_________________________________________________________________\n",
            "dense_3 (Dense)              (None, 256)               82176     \n",
            "_________________________________________________________________\n",
            "dense_4 (Dense)              (None, 192)               49344     \n",
            "_________________________________________________________________\n",
            "dense_5 (Dense)              (None, 128)               24704     \n",
            "_________________________________________________________________\n",
            "dense_6 (Dense)              (None, 96)                12384     \n",
            "_________________________________________________________________\n",
            "dense_7 (Dense)              (None, 64)                6208      \n",
            "_________________________________________________________________\n",
            "dense_8 (Dense)              (None, 48)                3120      \n",
            "_________________________________________________________________\n",
            "dense_9 (Dense)              (None, 22)                1078      \n",
            "_________________________________________________________________\n",
            "dense_10 (Dense)             (None, 48)                1104      \n",
            "_________________________________________________________________\n",
            "dense_11 (Dense)             (None, 64)                3136      \n",
            "_________________________________________________________________\n",
            "dense_12 (Dense)             (None, 96)                6240      \n",
            "_________________________________________________________________\n",
            "dense_13 (Dense)             (None, 128)               12416     \n",
            "_________________________________________________________________\n",
            "dense_14 (Dense)             (None, 192)               24768     \n",
            "_________________________________________________________________\n",
            "dense_15 (Dense)             (None, 256)               49408     \n",
            "_________________________________________________________________\n",
            "dense_16 (Dense)             (None, 320)               82240     \n",
            "_________________________________________________________________\n",
            "dense_17 (Dense)             (None, 384)               123264    \n",
            "_________________________________________________________________\n",
            "reshape_1 (Reshape)          (None, 128, 3)            0         \n",
            "=================================================================\n",
            "Total params: 752,630\n",
            "Trainable params: 752,630\n",
            "Non-trainable params: 0\n",
            "_________________________________________________________________\n",
            "None\n"
          ],
          "name": "stdout"
        },
        {
          "output_type": "stream",
          "text": [
            "W0704 10:43:15.177799 140250607974272 deprecation_wrapper.py:119] From /usr/local/lib/python3.6/dist-packages/keras/backend/tensorflow_backend.py:986: The name tf.assign_add is deprecated. Please use tf.compat.v1.assign_add instead.\n",
            "\n",
            "W0704 10:43:15.185001 140250607974272 deprecation_wrapper.py:119] From /usr/local/lib/python3.6/dist-packages/keras/backend/tensorflow_backend.py:973: The name tf.assign is deprecated. Please use tf.compat.v1.assign instead.\n",
            "\n"
          ],
          "name": "stderr"
        },
        {
          "output_type": "stream",
          "text": [
            "Train on 15464 samples, validate on 3866 samples\n",
            "Epoch 1/20\n",
            "15464/15464 [==============================] - 14s 933us/step - loss: 0.0646 - val_loss: 0.0487\n",
            "Epoch 2/20\n",
            "15464/15464 [==============================] - 10s 658us/step - loss: 0.0459 - val_loss: 0.0437\n",
            "Epoch 3/20\n",
            "15464/15464 [==============================] - 10s 649us/step - loss: 0.0427 - val_loss: 0.0417\n",
            "Epoch 4/20\n",
            "15464/15464 [==============================] - 10s 656us/step - loss: 0.0411 - val_loss: 0.0431\n",
            "Epoch 5/20\n",
            "15464/15464 [==============================] - 10s 654us/step - loss: 0.0398 - val_loss: 0.0399\n",
            "Epoch 6/20\n",
            "15464/15464 [==============================] - 10s 654us/step - loss: 0.0387 - val_loss: 0.0385\n",
            "Epoch 7/20\n",
            "15464/15464 [==============================] - 10s 659us/step - loss: 0.0378 - val_loss: 0.0388\n",
            "Epoch 8/20\n",
            "15464/15464 [==============================] - 10s 647us/step - loss: 0.0369 - val_loss: 0.0367\n",
            "Epoch 9/20\n",
            "15464/15464 [==============================] - 10s 649us/step - loss: 0.0363 - val_loss: 0.0361\n",
            "Epoch 10/20\n",
            "15464/15464 [==============================] - 10s 656us/step - loss: 0.0358 - val_loss: 0.0356\n",
            "Epoch 11/20\n",
            "15464/15464 [==============================] - 10s 653us/step - loss: 0.0353 - val_loss: 0.0353\n",
            "Epoch 12/20\n",
            "15464/15464 [==============================] - 10s 649us/step - loss: 0.0349 - val_loss: 0.0346\n",
            "Epoch 13/20\n",
            "15464/15464 [==============================] - 10s 647us/step - loss: 0.0345 - val_loss: 0.0346\n",
            "Epoch 14/20\n",
            "15464/15464 [==============================] - 10s 646us/step - loss: 0.0340 - val_loss: 0.0345\n",
            "Epoch 15/20\n",
            "15464/15464 [==============================] - 10s 645us/step - loss: 0.0337 - val_loss: 0.0335\n",
            "Epoch 16/20\n",
            "15464/15464 [==============================] - 10s 647us/step - loss: 0.0334 - val_loss: 0.0338\n",
            "Epoch 17/20\n",
            "15464/15464 [==============================] - 10s 655us/step - loss: 0.0332 - val_loss: 0.0337\n",
            "Epoch 18/20\n",
            "15464/15464 [==============================] - 10s 654us/step - loss: 0.0329 - val_loss: 0.0335\n",
            "Epoch 19/20\n",
            "15464/15464 [==============================] - 10s 648us/step - loss: 0.0327 - val_loss: 0.0330\n",
            "Epoch 20/20\n",
            "15464/15464 [==============================] - 10s 649us/step - loss: 0.0325 - val_loss: 0.0325\n"
          ],
          "name": "stdout"
        },
        {
          "output_type": "display_data",
          "data": {
            "image/png": "[encoded data removed]",
            "text/plain": [
              "<Figure size 432x288 with 1 Axes>"
            ]
          },
          "metadata": {
            "tags": []
          }
        }
      ]
    },
    {
      "cell_type": "code",
      "metadata": {
        "id": "QGBsKa3KhVJ4",
        "colab_type": "code",
        "colab": {}
      },
      "source": [
        "extract_features(encoder, SESSION0, 0)"
      ],
      "execution_count": 0,
      "outputs": []
    },
    {
      "cell_type": "markdown",
      "metadata": {
        "id": "yS972qHRKe7g",
        "colab_type": "text"
      },
      "source": [
        "Save/load trained model"
      ]
    },
    {
      "cell_type": "code",
      "metadata": {
        "id": "Aw6CDPsrKdwD",
        "colab_type": "code",
        "outputId": "b8a8d5f1-4891-4665-dd94-74b8de82740c",
        "colab": {
          "base_uri": "https://localhost:8080/",
          "height": 561
        }
      },
      "source": [
        "MODEL_LOCATION = '/content/drive/My Drive/Colab Notebooks/'\n",
        "\n",
        "# save\n",
        "encoder.save(MODEL_LOCATION + 'dense_encoder.h5')\n",
        "print(\"Saved model to disk\")\n",
        "\n",
        "# load\n",
        "from keras.models import load_model\n",
        "encoder = load_model(MODEL_LOCATION + 'dense_encoder.h5')\n",
        "encoder.summary()"
      ],
      "execution_count": 0,
      "outputs": [
        {
          "output_type": "stream",
          "text": [
            "Saved model to disk\n",
            "_________________________________________________________________\n",
            "Layer (type)                 Output Shape              Param #   \n",
            "=================================================================\n",
            "input_5 (InputLayer)         (None, 128, 3)            0         \n",
            "_________________________________________________________________\n",
            "flatten_5 (Flatten)          (None, 384)               0         \n",
            "_________________________________________________________________\n",
            "dense_67 (Dense)             (None, 384)               147840    \n",
            "_________________________________________________________________\n",
            "dense_68 (Dense)             (None, 320)               123200    \n",
            "_________________________________________________________________\n",
            "dense_69 (Dense)             (None, 256)               82176     \n",
            "_________________________________________________________________\n",
            "dense_70 (Dense)             (None, 196)               50372     \n",
            "_________________________________________________________________\n",
            "dense_71 (Dense)             (None, 128)               25216     \n",
            "_________________________________________________________________\n",
            "dense_72 (Dense)             (None, 96)                12384     \n",
            "_________________________________________________________________\n",
            "dense_73 (Dense)             (None, 64)                6208      \n",
            "_________________________________________________________________\n",
            "dense_74 (Dense)             (None, 48)                3120      \n",
            "_________________________________________________________________\n",
            "dense_75 (Dense)             (None, 22)                1078      \n",
            "=================================================================\n",
            "Total params: 451,594\n",
            "Trainable params: 451,594\n",
            "Non-trainable params: 0\n",
            "_________________________________________________________________\n"
          ],
          "name": "stdout"
        },
        {
          "output_type": "stream",
          "text": [
            "/usr/local/lib/python3.6/dist-packages/keras/engine/saving.py:292: UserWarning: No training configuration found in save file: the model was *not* compiled. Compile it manually.\n",
            "  warnings.warn('No training configuration found in save file: '\n"
          ],
          "name": "stderr"
        }
      ]
    },
    {
      "cell_type": "markdown",
      "metadata": {
        "id": "DRGuqpXGODWE",
        "colab_type": "text"
      },
      "source": [
        "## Classification using SVM"
      ]
    },
    {
      "cell_type": "markdown",
      "metadata": {
        "id": "BdmtYIH19C1j",
        "colab_type": "text"
      },
      "source": [
        "###Function definitions for classification"
      ]
    },
    {
      "cell_type": "code",
      "metadata": {
        "id": "En9XfEpsOIff",
        "colab_type": "code",
        "colab": {}
      },
      "source": [
        "def svm_manual_features (with_scaling=False):\n",
        "    file = FEATURES_DIR + FEATURE_FILE\n",
        "    csvdf = pd.read_csv(file, sep=',')\n",
        "    csvdf['userID'] = [int(value[1:]) for value in csvdf['userID']]\n",
        "    labels = csvdf.iloc[:, -1]\n",
        "    csvdf = csvdf.iloc[:, :-1]\n",
        "\n",
        "    # Test train split\n",
        "    X_train, X_test, y_train, y_test = train_test_split(csvdf, labels, test_size=0.25)\n",
        "    \n",
        "    if with_scaling:\n",
        "        # Standard scaling\n",
        "        sc = StandardScaler()\n",
        "        X_train = sc.fit_transform(X_train)\n",
        "        X_test = sc.fit_transform(X_test)\n",
        "\n",
        "    # Create SVM classifier\n",
        "    classifier_svm_kernel = SVC(C=100.0, kernel='rbf', gamma='scale', tol=0.00001, decision_function_shape='ovo',\n",
        "                                verbose=True)\n",
        "    classifier_svm_kernel.fit(X_train, y_train)\n",
        "\n",
        "    # Predict the result for test values\n",
        "    y_pred = classifier_svm_kernel.predict(X_test)\n",
        "\n",
        "    # Compute confusion matrix\n",
        "    cm = confusion_matrix(y_test, y_pred)\n",
        "    print(cm)\n",
        "\n",
        "    print(classification_report(y_test, y_pred))\n",
        "    # print(accuracy_score(y_test, y_pred))\n",
        "    print(\"Sensitivity:\", calc_sensitivity(y_test, y_pred))"
      ],
      "execution_count": 0,
      "outputs": []
    },
    {
      "cell_type": "code",
      "metadata": {
        "id": "hTCSfn0wOQ25",
        "colab_type": "code",
        "colab": {}
      },
      "source": [
        "def svm_autoencoder_features (with_scaling=False):\n",
        "    file = FEATURES_DIR + ENCODED_FILE\n",
        "    csvdf = pd.read_csv(file, sep=',')\n",
        "    labels = csvdf.iloc[:, -1]\n",
        "    csvdf = csvdf.iloc[:, :-1]\n",
        "\n",
        "    # Test train split\n",
        "    X_train, X_test, y_train, y_test = train_test_split(csvdf, labels, test_size=0.25)\n",
        "\n",
        "    if with_scaling:\n",
        "        # Standard scaling\n",
        "        sc = StandardScaler()\n",
        "        X_train = sc.fit_transform(X_train)\n",
        "        X_test = sc.fit_transform(X_test)\n",
        "\n",
        "    # Create SVM classifier\n",
        "    classifier_svm_kernel = SVC(C=100.0, kernel='rbf', gamma='scale', tol=0.00001, decision_function_shape='ovo',\n",
        "                                verbose=True)\n",
        "    classifier_svm_kernel.fit(X_train, y_train)\n",
        "\n",
        "    # Predict the result for test values\n",
        "    y_pred = classifier_svm_kernel.predict(X_test)\n",
        "\n",
        "    # Compute confusion matrix\n",
        "    cm = confusion_matrix(y_test, y_pred)\n",
        "    print(cm)\n",
        "\n",
        "    print(classification_report(y_test, y_pred))\n",
        "    # print(accuracy_score(y_test, y_pred))\n",
        "    print(\"Sensitivity:\", calc_sensitivity(y_test, y_pred))"
      ],
      "execution_count": 0,
      "outputs": []
    },
    {
      "cell_type": "markdown",
      "metadata": {
        "id": "9pkPapgZRIys",
        "colab_type": "text"
      },
      "source": [
        "###Test cases"
      ]
    },
    {
      "cell_type": "markdown",
      "metadata": {
        "id": "t2Um0p3rRQZn",
        "colab_type": "text"
      },
      "source": [
        "####1. Manual features from the FeatureExtractorLibrary"
      ]
    },
    {
      "cell_type": "code",
      "metadata": {
        "id": "30-2__KsRMJV",
        "colab_type": "code",
        "outputId": "f5d36efe-a3c0-4deb-9bc5-493c1dc28c6e",
        "colab": {
          "base_uri": "https://localhost:8080/",
          "height": 901
        }
      },
      "source": [
        "FEATURE_FILE = 'gaitacc128_session0.csv'\n",
        "svm_manual_features(True)"
      ],
      "execution_count": 0,
      "outputs": [
        {
          "output_type": "stream",
          "text": [
            "[LibSVM][[20  0  0  0  0  0  0  0  0  1  0  0  0  0  0  0  0  0  0  1  0  0]\n",
            " [ 0 17  0  2  0  0  0  0  0  1  1  0  0  0  0  0  0  0  0  0  0  1]\n",
            " [ 0  0 17  0  0  0  0  0  0  0  0  0  0  0  0  0  0  1  1  0  0  0]\n",
            " [ 1  0  0 13  0  0  0  0  0  1  2  0  0  0  1  0  0  0  0  0  0  0]\n",
            " [ 0  0  0  0 15  0  0  0  0  0  0  0  0  0  0  0  0  0  0  0  0  0]\n",
            " [ 0  0  1  0  0 16  1  1  0  0  0  0  0  0  0  0  0  0  0  0  0  0]\n",
            " [ 0  0  0  0  0  0 13  0  0  1  0  0  1  0  1  0  0  0  0  0  0  0]\n",
            " [ 0  0  0  0  0  0  0 13  0  0  0  0  0  0  0  0  0  0  0  0  0  0]\n",
            " [ 0  0  0  0  0  1  0  0 12  0  0  0  0  0  1  0  0  0  0  0  0  0]\n",
            " [ 0  0  0  0  0  1  0  0  1  8  2  0  0  0  0  0  0  0  0  0  0  0]\n",
            " [ 0  0  0  0  0  0  0  0  0  0 12  0  0  0  0  0  0  0  0  0  0  0]\n",
            " [ 1  0  0  0  0  0  0  0  0  0  1 13  2  0  0  0  0  0  0  0  0  0]\n",
            " [ 0  0  0  1  0  0  0  0  0  0  1  0 13  0  0  0  0  0  0  0  0  0]\n",
            " [ 0  2  1  2  0  0  0  0  0  0  0  0  0  9  1  0  0  0  0  0  0  0]\n",
            " [ 0  0  0  0  0  0  0  0  0  0  0  0  1  0 13  0  0  0  0  0  0  0]\n",
            " [ 0  0  0  0  0  0  0  0  0  0  0  0  0  0  0 15  0  0  0  0  0  0]\n",
            " [ 0  1  0  0  0  0  0  0  0  0  0  0  0  0  0  0 23  0  0  0  0  0]\n",
            " [ 0  0  0  0  0  0  0  0  0  0  0  0  0  0  1  0  0 24  0  0  0  0]\n",
            " [ 0  0  0  0  0  0  0  0  1  0  0  0  0  0  0  0  0  0 17  1  0  0]\n",
            " [ 0  0  0  0  0  0  0  0  0  0  0  0  0  0  0  0  0  0  0 10  0  0]\n",
            " [ 0  0  0  0  0  0  0  0  0  0  0  0  0  0  0  2  0  0  0  0 22  0]\n",
            " [ 0  0  0  0  0  0  0  0  0  0  0  0  0  0  0  0  0  0  0  0  0 19]]\n",
            "              precision    recall  f1-score   support\n",
            "\n",
            "           1       0.91      0.91      0.91        22\n",
            "           2       0.85      0.77      0.81        22\n",
            "           3       0.89      0.89      0.89        19\n",
            "           4       0.72      0.72      0.72        18\n",
            "           5       1.00      1.00      1.00        15\n",
            "           6       0.89      0.84      0.86        19\n",
            "           7       0.93      0.81      0.87        16\n",
            "           8       0.93      1.00      0.96        13\n",
            "           9       0.86      0.86      0.86        14\n",
            "          10       0.67      0.67      0.67        12\n",
            "          11       0.63      1.00      0.77        12\n",
            "          12       1.00      0.76      0.87        17\n",
            "          13       0.76      0.87      0.81        15\n",
            "          14       1.00      0.60      0.75        15\n",
            "          15       0.72      0.93      0.81        14\n",
            "          16       0.88      1.00      0.94        15\n",
            "          17       1.00      0.96      0.98        24\n",
            "          18       0.96      0.96      0.96        25\n",
            "          19       0.94      0.89      0.92        19\n",
            "          20       0.83      1.00      0.91        10\n",
            "          21       1.00      0.92      0.96        24\n",
            "          22       0.95      1.00      0.97        19\n",
            "\n",
            "    accuracy                           0.88       379\n",
            "   macro avg       0.88      0.88      0.87       379\n",
            "weighted avg       0.89      0.88      0.88       379\n",
            "\n",
            "Sensitivity: 0.8812664907651715\n"
          ],
          "name": "stdout"
        }
      ]
    },
    {
      "cell_type": "markdown",
      "metadata": {
        "id": "lCxdNz2qRmAn",
        "colab_type": "text"
      },
      "source": [
        "####2. SVM on automatic features"
      ]
    },
    {
      "cell_type": "code",
      "metadata": {
        "id": "Y_988MHtRmFx",
        "colab_type": "code",
        "outputId": "ef073deb-4f6f-4273-8312-4e31a685678d",
        "colab": {
          "base_uri": "https://localhost:8080/",
          "height": 901
        }
      },
      "source": [
        "ENCODED_FILE = \"session_0.csv\"\n",
        "svm_autoencoder_features()"
      ],
      "execution_count": 0,
      "outputs": [
        {
          "output_type": "stream",
          "text": [
            "[LibSVM][[19  0  0  0  0  0  0  0  0  0  0  0  0  0  0  0  0  0  0  0  0  0]\n",
            " [ 0 19  0  0  0  0  0  0  1  0  0  0  2  0  0  0  0  2  0  0  0  0]\n",
            " [ 0  0 11  0  0  0  0  0  0  0  0  0  0  0  0  0  0  0  1  0  0  0]\n",
            " [ 0  1  0 14  0  0  0  0  1  0  2  0  0  0  1  0  0  0  0  0  0  0]\n",
            " [ 0  0  0  0 12  2  0  2  0  0  0  0  0  0  1  0  0  0  0  0  0  0]\n",
            " [ 0  0  0  0  0  5  1  2  0  1  0  1  1  0  0  0  2  0  0  0  0  0]\n",
            " [ 0  0  0  0  0  0 11  0  0  0  0  0  0  0  0  0  0  0  0  0  0  0]\n",
            " [ 0  0  0  0  1  1  0  9  0  1  0  0  1  1  0  0  0  0  0  0  0  0]\n",
            " [ 0  2  1  0  0  0  0  0  5  0  1  0  0  0  0  0  0  2  0  0  0  2]\n",
            " [ 0  1  0  0  0  0  0  1  0  7  0  0  1  0  1  0  0  0  0  0  0  0]\n",
            " [ 0  0  0  0  0  0  0  0  0  0 12  0  0  0  0  0  0  0  0  0  0  0]\n",
            " [ 0  0  0  1  0  1  0  0  0  0  0 10  0  0  0  0  0  0  0  0  0  0]\n",
            " [ 0  2  0  0  0  0  0  2  0  2  0  0  8  1  0  0  0  0  0  0  0  0]\n",
            " [ 0  1  0  2  0  2  0  0  1  0  0  0  1  6  0  0  0  0  0  0  0  0]\n",
            " [ 0  0  0  0  0  0  0  0  0  0  0  0  0  0 10  0  0  0  0  0  0  0]\n",
            " [ 0  0  0  0  0  0  0  0  0  0  0  0  0  0  0 17  0  0  0  0  0  0]\n",
            " [ 0  0  0  0  0  1  0  0  0  0  0  0  0  0  0  0 21  0  0  0  0  0]\n",
            " [ 0  1  3  0  0  0  0  0  1  0  0  0  1  0  0  0  0 19  0  0  0  0]\n",
            " [ 0  0  2  0  0  0  0  0  0  0  0  0  0  0  0  0  0  0 20  0  0  0]\n",
            " [ 0  0  0  0  0  0  0  0  0  0  0  0  0  0  0  0  0  0  0 10  0  0]\n",
            " [ 0  0  0  0  0  0  0  0  0  0  0  0  0  0  0  0  0  0  0  0 16  0]\n",
            " [ 0  1  0  0  0  0  0  0  1  0  0  0  0  0  0  0  0  0  0  0  0 16]]\n",
            "              precision    recall  f1-score   support\n",
            "\n",
            "           1       1.00      1.00      1.00        19\n",
            "           2       0.68      0.79      0.73        24\n",
            "           3       0.65      0.92      0.76        12\n",
            "           4       0.82      0.74      0.78        19\n",
            "           5       0.92      0.71      0.80        17\n",
            "           6       0.42      0.38      0.40        13\n",
            "           7       0.92      1.00      0.96        11\n",
            "           8       0.56      0.64      0.60        14\n",
            "           9       0.50      0.38      0.43        13\n",
            "          10       0.64      0.64      0.64        11\n",
            "          11       0.80      1.00      0.89        12\n",
            "          12       0.91      0.83      0.87        12\n",
            "          13       0.53      0.53      0.53        15\n",
            "          14       0.75      0.46      0.57        13\n",
            "          15       0.77      1.00      0.87        10\n",
            "          16       1.00      1.00      1.00        17\n",
            "          17       0.91      0.95      0.93        22\n",
            "          18       0.83      0.76      0.79        25\n",
            "          19       0.95      0.91      0.93        22\n",
            "          20       1.00      1.00      1.00        10\n",
            "          21       1.00      1.00      1.00        16\n",
            "          22       0.89      0.89      0.89        18\n",
            "\n",
            "    accuracy                           0.80       345\n",
            "   macro avg       0.79      0.80      0.79       345\n",
            "weighted avg       0.81      0.80      0.80       345\n",
            "\n",
            "Sensitivity: 0.8028985507246377\n"
          ],
          "name": "stdout"
        }
      ]
    }
  ]
}